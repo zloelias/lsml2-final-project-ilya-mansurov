{
 "cells": [
  {
   "cell_type": "code",
   "execution_count": 1,
   "metadata": {},
   "outputs": [],
   "source": [
    "import pandas as pd"
   ]
  },
  {
   "cell_type": "code",
   "execution_count": 2,
   "metadata": {},
   "outputs": [],
   "source": [
    "df = pd.read_csv('./data/raw_ratings.csv')"
   ]
  },
  {
   "cell_type": "code",
   "execution_count": 4,
   "metadata": {},
   "outputs": [
    {
     "data": {
      "text/html": [
       "<div>\n",
       "<style scoped>\n",
       "    .dataframe tbody tr th:only-of-type {\n",
       "        vertical-align: middle;\n",
       "    }\n",
       "\n",
       "    .dataframe tbody tr th {\n",
       "        vertical-align: top;\n",
       "    }\n",
       "\n",
       "    .dataframe thead th {\n",
       "        text-align: right;\n",
       "    }\n",
       "</style>\n",
       "<table border=\"1\" class=\"dataframe\">\n",
       "  <thead>\n",
       "    <tr style=\"text-align: right;\">\n",
       "      <th></th>\n",
       "      <th>user_id</th>\n",
       "      <th>item_id</th>\n",
       "      <th>rating</th>\n",
       "    </tr>\n",
       "  </thead>\n",
       "  <tbody>\n",
       "    <tr>\n",
       "      <th>0</th>\n",
       "      <td>wKgJ11YGMaCRRSrYAwa4Ag==</td>\n",
       "      <td>23275</td>\n",
       "      <td>1</td>\n",
       "    </tr>\n",
       "    <tr>\n",
       "      <th>1</th>\n",
       "      <td>wKgcCl4oIvlulDN2EnEhAg==</td>\n",
       "      <td>64649</td>\n",
       "      <td>1</td>\n",
       "    </tr>\n",
       "    <tr>\n",
       "      <th>2</th>\n",
       "      <td>wKgJ11dBck85sEDZA+s7Ag==</td>\n",
       "      <td>63786</td>\n",
       "      <td>1</td>\n",
       "    </tr>\n",
       "    <tr>\n",
       "      <th>3</th>\n",
       "      <td>wKgJ1lYGv/xI8nRjAyAbAg==</td>\n",
       "      <td>42465</td>\n",
       "      <td>1</td>\n",
       "    </tr>\n",
       "    <tr>\n",
       "      <th>4</th>\n",
       "      <td>wKgJ1lYISLBegSKNAy5uAg==</td>\n",
       "      <td>64573</td>\n",
       "      <td>1</td>\n",
       "    </tr>\n",
       "    <tr>\n",
       "      <th>...</th>\n",
       "      <td>...</td>\n",
       "      <td>...</td>\n",
       "      <td>...</td>\n",
       "    </tr>\n",
       "    <tr>\n",
       "      <th>1107894</th>\n",
       "      <td>wKgcFFtE/cxVhI/rA+GVAg==</td>\n",
       "      <td>62445</td>\n",
       "      <td>1</td>\n",
       "    </tr>\n",
       "    <tr>\n",
       "      <th>1107895</th>\n",
       "      <td>wKgcFFtE/cxVhI/rA+GVAg==</td>\n",
       "      <td>62445</td>\n",
       "      <td>-1</td>\n",
       "    </tr>\n",
       "    <tr>\n",
       "      <th>1107896</th>\n",
       "      <td>wKgcFFtGTRZTAq8fBdzQAg==</td>\n",
       "      <td>62278</td>\n",
       "      <td>1</td>\n",
       "    </tr>\n",
       "    <tr>\n",
       "      <th>1107897</th>\n",
       "      <td>wKgcFFtIOMJQR68cCMNHAg==</td>\n",
       "      <td>64649</td>\n",
       "      <td>-1</td>\n",
       "    </tr>\n",
       "    <tr>\n",
       "      <th>1107898</th>\n",
       "      <td>wKgcFFtLSGlTAq8fNSmCAg==</td>\n",
       "      <td>63178</td>\n",
       "      <td>-1</td>\n",
       "    </tr>\n",
       "  </tbody>\n",
       "</table>\n",
       "<p>1107899 rows × 3 columns</p>\n",
       "</div>"
      ],
      "text/plain": [
       "                          user_id  item_id  rating\n",
       "0        wKgJ11YGMaCRRSrYAwa4Ag==    23275       1\n",
       "1        wKgcCl4oIvlulDN2EnEhAg==    64649       1\n",
       "2        wKgJ11dBck85sEDZA+s7Ag==    63786       1\n",
       "3        wKgJ1lYGv/xI8nRjAyAbAg==    42465       1\n",
       "4        wKgJ1lYISLBegSKNAy5uAg==    64573       1\n",
       "...                           ...      ...     ...\n",
       "1107894  wKgcFFtE/cxVhI/rA+GVAg==    62445       1\n",
       "1107895  wKgcFFtE/cxVhI/rA+GVAg==    62445      -1\n",
       "1107896  wKgcFFtGTRZTAq8fBdzQAg==    62278       1\n",
       "1107897  wKgcFFtIOMJQR68cCMNHAg==    64649      -1\n",
       "1107898  wKgcFFtLSGlTAq8fNSmCAg==    63178      -1\n",
       "\n",
       "[1107899 rows x 3 columns]"
      ]
     },
     "execution_count": 4,
     "metadata": {},
     "output_type": "execute_result"
    }
   ],
   "source": [
    "df"
   ]
  },
  {
   "cell_type": "code",
   "execution_count": 6,
   "metadata": {},
   "outputs": [],
   "source": [
    "df.drop_duplicates(inplace=True)"
   ]
  },
  {
   "cell_type": "code",
   "execution_count": 23,
   "metadata": {},
   "outputs": [],
   "source": [
    "df['user_rating_cnt'] = df['user_id'].map(df['user_id'].value_counts())"
   ]
  },
  {
   "cell_type": "code",
   "execution_count": 26,
   "metadata": {},
   "outputs": [],
   "source": [
    "df['item_rating_cnt'] = df['item_id'].map(df['item_id'].value_counts())"
   ]
  },
  {
   "cell_type": "code",
   "execution_count": 28,
   "metadata": {},
   "outputs": [],
   "source": [
    "df = df[(df['user_rating_cnt'] > 1) & (df['item_rating_cnt'])]"
   ]
  },
  {
   "cell_type": "code",
   "execution_count": 30,
   "metadata": {},
   "outputs": [
    {
     "data": {
      "text/plain": [
       "(32686,)"
      ]
     },
     "execution_count": 30,
     "metadata": {},
     "output_type": "execute_result"
    }
   ],
   "source": [
    "df['user_id'].unique().shape"
   ]
  },
  {
   "cell_type": "code",
   "execution_count": 31,
   "metadata": {},
   "outputs": [
    {
     "data": {
      "text/plain": [
       "(1237,)"
      ]
     },
     "execution_count": 31,
     "metadata": {},
     "output_type": "execute_result"
    }
   ],
   "source": [
    "df['item_id'].unique().shape"
   ]
  },
  {
   "cell_type": "code",
   "execution_count": 34,
   "metadata": {},
   "outputs": [
    {
     "name": "stderr",
     "output_type": "stream",
     "text": [
      "/opt/anaconda3/lib/python3.8/site-packages/pandas/core/frame.py:4308: SettingWithCopyWarning: \n",
      "A value is trying to be set on a copy of a slice from a DataFrame\n",
      "\n",
      "See the caveats in the documentation: https://pandas.pydata.org/pandas-docs/stable/user_guide/indexing.html#returning-a-view-versus-a-copy\n",
      "  return super().drop(\n"
     ]
    }
   ],
   "source": [
    "df.drop('user_rating_cnt', axis=1, inplace=True)\n",
    "df.drop('item_rating_cnt', axis=1, inplace=True)"
   ]
  },
  {
   "cell_type": "code",
   "execution_count": 51,
   "metadata": {},
   "outputs": [
    {
     "data": {
      "text/plain": [
       " 1    37000\n",
       "-1    23955\n",
       "Name: rating, dtype: int64"
      ]
     },
     "execution_count": 51,
     "metadata": {},
     "output_type": "execute_result"
    }
   ],
   "source": [
    "df['rating'].value_counts()"
   ]
  },
  {
   "cell_type": "code",
   "execution_count": 36,
   "metadata": {},
   "outputs": [],
   "source": [
    "from sklearn.model_selection import train_test_split"
   ]
  },
  {
   "cell_type": "code",
   "execution_count": 45,
   "metadata": {},
   "outputs": [],
   "source": [
    "train, test = train_test_split(df, train_size=0.9, shuffle=True)"
   ]
  },
  {
   "cell_type": "code",
   "execution_count": 46,
   "metadata": {},
   "outputs": [
    {
     "data": {
      "text/html": [
       "<div>\n",
       "<style scoped>\n",
       "    .dataframe tbody tr th:only-of-type {\n",
       "        vertical-align: middle;\n",
       "    }\n",
       "\n",
       "    .dataframe tbody tr th {\n",
       "        vertical-align: top;\n",
       "    }\n",
       "\n",
       "    .dataframe thead th {\n",
       "        text-align: right;\n",
       "    }\n",
       "</style>\n",
       "<table border=\"1\" class=\"dataframe\">\n",
       "  <thead>\n",
       "    <tr style=\"text-align: right;\">\n",
       "      <th></th>\n",
       "      <th>user_id</th>\n",
       "      <th>item_id</th>\n",
       "      <th>rating</th>\n",
       "    </tr>\n",
       "  </thead>\n",
       "  <tbody>\n",
       "    <tr>\n",
       "      <th>267592</th>\n",
       "      <td>wKgcDVrwc2kVPhTBBVhzAg==</td>\n",
       "      <td>64849</td>\n",
       "      <td>1</td>\n",
       "    </tr>\n",
       "    <tr>\n",
       "      <th>332820</th>\n",
       "      <td>wKgcCl36aRx2OgftB1f+Ag==</td>\n",
       "      <td>63129</td>\n",
       "      <td>-1</td>\n",
       "    </tr>\n",
       "    <tr>\n",
       "      <th>388220</th>\n",
       "      <td>wKgcCl143M0gHFCDBeXhAg==</td>\n",
       "      <td>59532</td>\n",
       "      <td>-1</td>\n",
       "    </tr>\n",
       "    <tr>\n",
       "      <th>543544</th>\n",
       "      <td>wKgcEVvM5QKtXDA8A4cQAg==</td>\n",
       "      <td>62509</td>\n",
       "      <td>1</td>\n",
       "    </tr>\n",
       "    <tr>\n",
       "      <th>328438</th>\n",
       "      <td>wKgcDF/DYYCiOje/A723Ag==</td>\n",
       "      <td>64994</td>\n",
       "      <td>1</td>\n",
       "    </tr>\n",
       "    <tr>\n",
       "      <th>...</th>\n",
       "      <td>...</td>\n",
       "      <td>...</td>\n",
       "      <td>...</td>\n",
       "    </tr>\n",
       "    <tr>\n",
       "      <th>757143</th>\n",
       "      <td>wKgcDlry8lMaenHRBI+EAg==</td>\n",
       "      <td>59944</td>\n",
       "      <td>1</td>\n",
       "    </tr>\n",
       "    <tr>\n",
       "      <th>937</th>\n",
       "      <td>wKgcC10QwqYc4TiWBzjIAg==</td>\n",
       "      <td>63853</td>\n",
       "      <td>-1</td>\n",
       "    </tr>\n",
       "    <tr>\n",
       "      <th>1039947</th>\n",
       "      <td>wKgcCl2VUe4xmWhfA1ZCAg==</td>\n",
       "      <td>59022</td>\n",
       "      <td>-1</td>\n",
       "    </tr>\n",
       "    <tr>\n",
       "      <th>1095020</th>\n",
       "      <td>wKgcDV3c+4Jo1D/YBPzBAg==</td>\n",
       "      <td>45183</td>\n",
       "      <td>1</td>\n",
       "    </tr>\n",
       "    <tr>\n",
       "      <th>948048</th>\n",
       "      <td>wKgcEV6mx+hQXG6+GgYpAg==</td>\n",
       "      <td>59532</td>\n",
       "      <td>1</td>\n",
       "    </tr>\n",
       "  </tbody>\n",
       "</table>\n",
       "<p>6096 rows × 3 columns</p>\n",
       "</div>"
      ],
      "text/plain": [
       "                          user_id  item_id  rating\n",
       "267592   wKgcDVrwc2kVPhTBBVhzAg==    64849       1\n",
       "332820   wKgcCl36aRx2OgftB1f+Ag==    63129      -1\n",
       "388220   wKgcCl143M0gHFCDBeXhAg==    59532      -1\n",
       "543544   wKgcEVvM5QKtXDA8A4cQAg==    62509       1\n",
       "328438   wKgcDF/DYYCiOje/A723Ag==    64994       1\n",
       "...                           ...      ...     ...\n",
       "757143   wKgcDlry8lMaenHRBI+EAg==    59944       1\n",
       "937      wKgcC10QwqYc4TiWBzjIAg==    63853      -1\n",
       "1039947  wKgcCl2VUe4xmWhfA1ZCAg==    59022      -1\n",
       "1095020  wKgcDV3c+4Jo1D/YBPzBAg==    45183       1\n",
       "948048   wKgcEV6mx+hQXG6+GgYpAg==    59532       1\n",
       "\n",
       "[6096 rows x 3 columns]"
      ]
     },
     "execution_count": 46,
     "metadata": {},
     "output_type": "execute_result"
    }
   ],
   "source": [
    "test"
   ]
  },
  {
   "cell_type": "code",
   "execution_count": 47,
   "metadata": {},
   "outputs": [
    {
     "data": {
      "text/html": [
       "<div>\n",
       "<style scoped>\n",
       "    .dataframe tbody tr th:only-of-type {\n",
       "        vertical-align: middle;\n",
       "    }\n",
       "\n",
       "    .dataframe tbody tr th {\n",
       "        vertical-align: top;\n",
       "    }\n",
       "\n",
       "    .dataframe thead th {\n",
       "        text-align: right;\n",
       "    }\n",
       "</style>\n",
       "<table border=\"1\" class=\"dataframe\">\n",
       "  <thead>\n",
       "    <tr style=\"text-align: right;\">\n",
       "      <th></th>\n",
       "      <th>user_id</th>\n",
       "      <th>item_id</th>\n",
       "      <th>rating</th>\n",
       "    </tr>\n",
       "  </thead>\n",
       "  <tbody>\n",
       "    <tr>\n",
       "      <th>267592</th>\n",
       "      <td>wKgcDVrwc2kVPhTBBVhzAg==</td>\n",
       "      <td>64849</td>\n",
       "      <td>1</td>\n",
       "    </tr>\n",
       "    <tr>\n",
       "      <th>332820</th>\n",
       "      <td>wKgcCl36aRx2OgftB1f+Ag==</td>\n",
       "      <td>63129</td>\n",
       "      <td>-1</td>\n",
       "    </tr>\n",
       "    <tr>\n",
       "      <th>388220</th>\n",
       "      <td>wKgcCl143M0gHFCDBeXhAg==</td>\n",
       "      <td>59532</td>\n",
       "      <td>-1</td>\n",
       "    </tr>\n",
       "    <tr>\n",
       "      <th>543544</th>\n",
       "      <td>wKgcEVvM5QKtXDA8A4cQAg==</td>\n",
       "      <td>62509</td>\n",
       "      <td>1</td>\n",
       "    </tr>\n",
       "    <tr>\n",
       "      <th>328438</th>\n",
       "      <td>wKgcDF/DYYCiOje/A723Ag==</td>\n",
       "      <td>64994</td>\n",
       "      <td>1</td>\n",
       "    </tr>\n",
       "    <tr>\n",
       "      <th>...</th>\n",
       "      <td>...</td>\n",
       "      <td>...</td>\n",
       "      <td>...</td>\n",
       "    </tr>\n",
       "    <tr>\n",
       "      <th>757143</th>\n",
       "      <td>wKgcDlry8lMaenHRBI+EAg==</td>\n",
       "      <td>59944</td>\n",
       "      <td>1</td>\n",
       "    </tr>\n",
       "    <tr>\n",
       "      <th>937</th>\n",
       "      <td>wKgcC10QwqYc4TiWBzjIAg==</td>\n",
       "      <td>63853</td>\n",
       "      <td>-1</td>\n",
       "    </tr>\n",
       "    <tr>\n",
       "      <th>1039947</th>\n",
       "      <td>wKgcCl2VUe4xmWhfA1ZCAg==</td>\n",
       "      <td>59022</td>\n",
       "      <td>-1</td>\n",
       "    </tr>\n",
       "    <tr>\n",
       "      <th>1095020</th>\n",
       "      <td>wKgcDV3c+4Jo1D/YBPzBAg==</td>\n",
       "      <td>45183</td>\n",
       "      <td>1</td>\n",
       "    </tr>\n",
       "    <tr>\n",
       "      <th>948048</th>\n",
       "      <td>wKgcEV6mx+hQXG6+GgYpAg==</td>\n",
       "      <td>59532</td>\n",
       "      <td>1</td>\n",
       "    </tr>\n",
       "  </tbody>\n",
       "</table>\n",
       "<p>6061 rows × 3 columns</p>\n",
       "</div>"
      ],
      "text/plain": [
       "                          user_id  item_id  rating\n",
       "267592   wKgcDVrwc2kVPhTBBVhzAg==    64849       1\n",
       "332820   wKgcCl36aRx2OgftB1f+Ag==    63129      -1\n",
       "388220   wKgcCl143M0gHFCDBeXhAg==    59532      -1\n",
       "543544   wKgcEVvM5QKtXDA8A4cQAg==    62509       1\n",
       "328438   wKgcDF/DYYCiOje/A723Ag==    64994       1\n",
       "...                           ...      ...     ...\n",
       "757143   wKgcDlry8lMaenHRBI+EAg==    59944       1\n",
       "937      wKgcC10QwqYc4TiWBzjIAg==    63853      -1\n",
       "1039947  wKgcCl2VUe4xmWhfA1ZCAg==    59022      -1\n",
       "1095020  wKgcDV3c+4Jo1D/YBPzBAg==    45183       1\n",
       "948048   wKgcEV6mx+hQXG6+GgYpAg==    59532       1\n",
       "\n",
       "[6061 rows x 3 columns]"
      ]
     },
     "execution_count": 47,
     "metadata": {},
     "output_type": "execute_result"
    }
   ],
   "source": [
    "test = test[test['item_id'].isin(train['item_id'])]\n",
    "test"
   ]
  },
  {
   "cell_type": "code",
   "execution_count": 49,
   "metadata": {},
   "outputs": [],
   "source": [
    "train.to_csv('data/train.csv', header=None, index=None)\n",
    "test.to_csv('data/test.csv', header=None, index=None)"
   ]
  },
  {
   "cell_type": "code",
   "execution_count": 57,
   "metadata": {},
   "outputs": [
    {
     "data": {
      "text/html": [
       "<div>\n",
       "<style scoped>\n",
       "    .dataframe tbody tr th:only-of-type {\n",
       "        vertical-align: middle;\n",
       "    }\n",
       "\n",
       "    .dataframe tbody tr th {\n",
       "        vertical-align: top;\n",
       "    }\n",
       "\n",
       "    .dataframe thead th {\n",
       "        text-align: right;\n",
       "    }\n",
       "</style>\n",
       "<table border=\"1\" class=\"dataframe\">\n",
       "  <thead>\n",
       "    <tr style=\"text-align: right;\">\n",
       "      <th></th>\n",
       "      <th>user_id</th>\n",
       "      <th>item_id</th>\n",
       "      <th>rating</th>\n",
       "    </tr>\n",
       "  </thead>\n",
       "  <tbody>\n",
       "    <tr>\n",
       "      <th>0</th>\n",
       "      <td>wKgcEFzhHPi/HIhcBJseAg==</td>\n",
       "      <td>64189</td>\n",
       "      <td>1</td>\n",
       "    </tr>\n",
       "    <tr>\n",
       "      <th>1</th>\n",
       "      <td>ad2d7c3a9ce847f8ba767766c4cab613</td>\n",
       "      <td>66673</td>\n",
       "      <td>-1</td>\n",
       "    </tr>\n",
       "    <tr>\n",
       "      <th>2</th>\n",
       "      <td>wKgcD1tLZ7p1cScDM2+fAg==</td>\n",
       "      <td>59872</td>\n",
       "      <td>1</td>\n",
       "    </tr>\n",
       "    <tr>\n",
       "      <th>3</th>\n",
       "      <td>wKgcD11rmi46O2A5CwkBAg==</td>\n",
       "      <td>64505</td>\n",
       "      <td>1</td>\n",
       "    </tr>\n",
       "    <tr>\n",
       "      <th>4</th>\n",
       "      <td>wKgcEF6S0xx7SHxmBSUfAg==</td>\n",
       "      <td>64758</td>\n",
       "      <td>1</td>\n",
       "    </tr>\n",
       "    <tr>\n",
       "      <th>...</th>\n",
       "      <td>...</td>\n",
       "      <td>...</td>\n",
       "      <td>...</td>\n",
       "    </tr>\n",
       "    <tr>\n",
       "      <th>54854</th>\n",
       "      <td>wKgcD1zk5XFo3RTaBthEAg==</td>\n",
       "      <td>59022</td>\n",
       "      <td>-1</td>\n",
       "    </tr>\n",
       "    <tr>\n",
       "      <th>54855</th>\n",
       "      <td>wKgcDV6bPpU8EW8CGhfjAg==</td>\n",
       "      <td>29511</td>\n",
       "      <td>1</td>\n",
       "    </tr>\n",
       "    <tr>\n",
       "      <th>54856</th>\n",
       "      <td>wKgcD1+5G2GkIjx8GMZfAg==</td>\n",
       "      <td>65497</td>\n",
       "      <td>1</td>\n",
       "    </tr>\n",
       "    <tr>\n",
       "      <th>54857</th>\n",
       "      <td>wKgcCl7tIMxQ7R3eCOvAAg==</td>\n",
       "      <td>64994</td>\n",
       "      <td>-1</td>\n",
       "    </tr>\n",
       "    <tr>\n",
       "      <th>54858</th>\n",
       "      <td>wKgcDWAMgzBQvHGdL5N5Ag==</td>\n",
       "      <td>64994</td>\n",
       "      <td>1</td>\n",
       "    </tr>\n",
       "  </tbody>\n",
       "</table>\n",
       "<p>54859 rows × 3 columns</p>\n",
       "</div>"
      ],
      "text/plain": [
       "                                user_id  item_id  rating\n",
       "0              wKgcEFzhHPi/HIhcBJseAg==    64189       1\n",
       "1      ad2d7c3a9ce847f8ba767766c4cab613    66673      -1\n",
       "2              wKgcD1tLZ7p1cScDM2+fAg==    59872       1\n",
       "3              wKgcD11rmi46O2A5CwkBAg==    64505       1\n",
       "4              wKgcEF6S0xx7SHxmBSUfAg==    64758       1\n",
       "...                                 ...      ...     ...\n",
       "54854          wKgcD1zk5XFo3RTaBthEAg==    59022      -1\n",
       "54855          wKgcDV6bPpU8EW8CGhfjAg==    29511       1\n",
       "54856          wKgcD1+5G2GkIjx8GMZfAg==    65497       1\n",
       "54857          wKgcCl7tIMxQ7R3eCOvAAg==    64994      -1\n",
       "54858          wKgcDWAMgzBQvHGdL5N5Ag==    64994       1\n",
       "\n",
       "[54859 rows x 3 columns]"
      ]
     },
     "execution_count": 57,
     "metadata": {},
     "output_type": "execute_result"
    }
   ],
   "source": [
    "pd.read_csv('data/train.csv', header=None, names=['user_id', 'item_id', 'rating'])"
   ]
  },
  {
   "cell_type": "code",
   "execution_count": 59,
   "metadata": {},
   "outputs": [
    {
     "data": {
      "text/plain": [
       "array([['2173e4df-2fba-41fe-81e5-e2326d01f1c1', 62587],\n",
       "       ['wKgJ3lbhp80evEjPBDk1Ag==', 58683],\n",
       "       ['wKgJ3lbhp80evEjPBDk1Ag==', 58683],\n",
       "       ...,\n",
       "       ['wKgcEls2JYmr2GxmA0E1Ag==', 62445],\n",
       "       ['wKgcEls3JNx1lBXuC/1+Ag==', 60129],\n",
       "       ['wKgcFFtE/cxVhI/rA+GVAg==', 62445]], dtype=object)"
      ]
     },
     "execution_count": 59,
     "metadata": {},
     "output_type": "execute_result"
    }
   ],
   "source": [
    "df[['user_id', 'item_id']].values"
   ]
  },
  {
   "cell_type": "code",
   "execution_count": 60,
   "metadata": {},
   "outputs": [],
   "source": [
    "train.to_csv('data/smotrim.train.rating', header=None, index=None, sep='\\t')\n",
    "test.to_csv('data/smotrim.test.rating', header=None, index=None, sep='\\t')"
   ]
  },
  {
   "cell_type": "code",
   "execution_count": 66,
   "metadata": {},
   "outputs": [
    {
     "data": {
      "text/plain": [
       "66673"
      ]
     },
     "execution_count": 66,
     "metadata": {},
     "output_type": "execute_result"
    }
   ],
   "source": [
    "train.iloc[1]['item_id']"
   ]
  },
  {
   "cell_type": "code",
   "execution_count": 73,
   "metadata": {},
   "outputs": [
    {
     "data": {
      "text/html": [
       "<div>\n",
       "<style scoped>\n",
       "    .dataframe tbody tr th:only-of-type {\n",
       "        vertical-align: middle;\n",
       "    }\n",
       "\n",
       "    .dataframe tbody tr th {\n",
       "        vertical-align: top;\n",
       "    }\n",
       "\n",
       "    .dataframe thead th {\n",
       "        text-align: right;\n",
       "    }\n",
       "</style>\n",
       "<table border=\"1\" class=\"dataframe\">\n",
       "  <thead>\n",
       "    <tr style=\"text-align: right;\">\n",
       "      <th></th>\n",
       "      <th>user_id</th>\n",
       "      <th>item_id</th>\n",
       "      <th>rating</th>\n",
       "    </tr>\n",
       "  </thead>\n",
       "  <tbody>\n",
       "    <tr>\n",
       "      <th>755178</th>\n",
       "      <td>wKgcEFzhHPi/HIhcBJseAg==</td>\n",
       "      <td>64189</td>\n",
       "      <td>1</td>\n",
       "    </tr>\n",
       "    <tr>\n",
       "      <th>863297</th>\n",
       "      <td>ad2d7c3a9ce847f8ba767766c4cab613</td>\n",
       "      <td>66673</td>\n",
       "      <td>-1</td>\n",
       "    </tr>\n",
       "    <tr>\n",
       "      <th>445331</th>\n",
       "      <td>wKgcD1tLZ7p1cScDM2+fAg==</td>\n",
       "      <td>59872</td>\n",
       "      <td>1</td>\n",
       "    </tr>\n",
       "    <tr>\n",
       "      <th>675040</th>\n",
       "      <td>wKgcD11rmi46O2A5CwkBAg==</td>\n",
       "      <td>64505</td>\n",
       "      <td>1</td>\n",
       "    </tr>\n",
       "    <tr>\n",
       "      <th>389846</th>\n",
       "      <td>wKgcEF6S0xx7SHxmBSUfAg==</td>\n",
       "      <td>64758</td>\n",
       "      <td>1</td>\n",
       "    </tr>\n",
       "    <tr>\n",
       "      <th>...</th>\n",
       "      <td>...</td>\n",
       "      <td>...</td>\n",
       "      <td>...</td>\n",
       "    </tr>\n",
       "    <tr>\n",
       "      <th>934025</th>\n",
       "      <td>wKgcD1zk5XFo3RTaBthEAg==</td>\n",
       "      <td>59022</td>\n",
       "      <td>-1</td>\n",
       "    </tr>\n",
       "    <tr>\n",
       "      <th>185318</th>\n",
       "      <td>wKgcDV6bPpU8EW8CGhfjAg==</td>\n",
       "      <td>29511</td>\n",
       "      <td>1</td>\n",
       "    </tr>\n",
       "    <tr>\n",
       "      <th>316625</th>\n",
       "      <td>wKgcD1+5G2GkIjx8GMZfAg==</td>\n",
       "      <td>65497</td>\n",
       "      <td>1</td>\n",
       "    </tr>\n",
       "    <tr>\n",
       "      <th>311381</th>\n",
       "      <td>wKgcCl7tIMxQ7R3eCOvAAg==</td>\n",
       "      <td>64994</td>\n",
       "      <td>-1</td>\n",
       "    </tr>\n",
       "    <tr>\n",
       "      <th>404228</th>\n",
       "      <td>wKgcDWAMgzBQvHGdL5N5Ag==</td>\n",
       "      <td>64994</td>\n",
       "      <td>1</td>\n",
       "    </tr>\n",
       "  </tbody>\n",
       "</table>\n",
       "<p>54859 rows × 3 columns</p>\n",
       "</div>"
      ],
      "text/plain": [
       "                                 user_id  item_id  rating\n",
       "755178          wKgcEFzhHPi/HIhcBJseAg==    64189       1\n",
       "863297  ad2d7c3a9ce847f8ba767766c4cab613    66673      -1\n",
       "445331          wKgcD1tLZ7p1cScDM2+fAg==    59872       1\n",
       "675040          wKgcD11rmi46O2A5CwkBAg==    64505       1\n",
       "389846          wKgcEF6S0xx7SHxmBSUfAg==    64758       1\n",
       "...                                  ...      ...     ...\n",
       "934025          wKgcD1zk5XFo3RTaBthEAg==    59022      -1\n",
       "185318          wKgcDV6bPpU8EW8CGhfjAg==    29511       1\n",
       "316625          wKgcD1+5G2GkIjx8GMZfAg==    65497       1\n",
       "311381          wKgcCl7tIMxQ7R3eCOvAAg==    64994      -1\n",
       "404228          wKgcDWAMgzBQvHGdL5N5Ag==    64994       1\n",
       "\n",
       "[54859 rows x 3 columns]"
      ]
     },
     "execution_count": 73,
     "metadata": {},
     "output_type": "execute_result"
    }
   ],
   "source": [
    "train[['user_id', 'item_id', 'rating']]"
   ]
  },
  {
   "cell_type": "code",
   "execution_count": null,
   "metadata": {},
   "outputs": [],
   "source": []
  },
  {
   "cell_type": "code",
   "execution_count": null,
   "metadata": {},
   "outputs": [],
   "source": []
  },
  {
   "cell_type": "code",
   "execution_count": null,
   "metadata": {},
   "outputs": [],
   "source": [
    "import requests\n",
    "import logging\n",
    "import curlify\n",
    "import time\n",
    "\n",
    "test_files = [\n",
    "    (\n",
    "        'regular mp4', \n",
    "        'https://mediahosting.staff.rfn.ru/video/edit/id/2451741',\n",
    "        'http://cdn1.vesti.ru/_cdn_auth/secure/v/vh/mp4/high-wide/002/451/741.mp4?auth=mh&vid=2451741',\n",
    "    ),\n",
    "    (\n",
    "        'regular mp4',\n",
    "        'https://mediahosting.staff.rfn.ru/video/edit/id/2451703',\n",
    "        'http://cdn1.vesti.ru/_cdn_auth/secure/v/vh/mp4/hd-wide/002/451/703.mp4?auth=mh&vid=2451703',\n",
    "    ),\n",
    "    (\n",
    "        'long mp4',\n",
    "        'https://mediahosting.staff.rfn.ru/video/edit/id/2446249',\n",
    "        'http://cdn1.vesti.ru/_cdn_auth/secure/v/vh/mp4/fhd-wide/002/446/249.mp4?auth=mh&vid=2446249',\n",
    "    ),\n",
    "    (\n",
    "        'long hls + ssl',\n",
    "        'https://mediahosting.staff.rfn.ru/video/edit/id/2445568',\n",
    "        'http://cdn1.vesti.ru/_cdn_auth/secure/v/vh/mp4/fhd-wide/002/445/568.mp4?auth=mh&vid=2445568',\n",
    "    ),\n",
    "    (\n",
    "        'short mp4',\n",
    "        'https://mediahosting.staff.rfn.ru/video/edit/id/2448245',\n",
    "        'http://cdn1.vesti.ru/_cdn_auth/secure/v/vh/mp4/fhd-wide/002/448/245.mp4?auth=mh&vid=2448245',\n",
    "    ),\n",
    "    (\n",
    "        'short mp3 + ssl',\n",
    "        'https://mediahosting.staff.rfn.ru/audio/edit/id/974939',\n",
    "        'https://mediahosting.staff.rfn.ru/audio/mp3/test/974/939.mp3'\n",
    "    ),\n",
    "    (\n",
    "        'long mp3 + ssl',\n",
    "        'https://mediahosting.staff.rfn.ru/audio/edit/id/974223',\n",
    "        'https://mediahosting.staff.rfn.ru/audio/mp3/test/974/223.mp3',\n",
    "    )\n",
    "]\n",
    "\n",
    "api_url = 'http://148.253.62.113:9080/transcriber/continuous/'\n",
    "timeout = 10\n",
    "\n",
    "for i, comment, ri_url, video_url in enumerate(test_files):\n",
    "    logging.info('-------------------------------------')\n",
    "    logging.info(f'Test #{i}')\n",
    "    logging.info(f'{video_url}')\n",
    "    try:\n",
    "        request_body = '{\"config\": {\"languageCode\": \"0\", \"model\": \"base\"}, \"audio\": {\"url\": \"'+video_url+'\", \"stream_audio_id\": 0}}'\n",
    "        r = requests.post(\n",
    "            api_url, \n",
    "            headers={\"content-type\": \"application/json\"},\n",
    "            data = request_body\n",
    "        )\n",
    "        logging.info(curlify.to_curl(r.request))\n",
    "        task_id = r.json()['result']['id']\n",
    "    except:\n",
    "        logging.info('Request failed')\n",
    "        break\n",
    "    task_complete = False\n",
    "    n_try = 0\n",
    "    sec = 0\n",
    "    while not task_complete:\n",
    "        try:\n",
    "            r = requests.get(\n",
    "                api_url + task_id\n",
    "            )\n",
    "            task_complete = r.json()['result']['done']\n",
    "            logging.info(f'Try: {n_try}, task ready: {task_complete}')\n",
    "            jsonFile = open(str(n_try)+'-'+str(task_id), \"w\")\n",
    "            jsonFile.write(json.dumps(r.json()))\n",
    "            jsonFile.close()\n",
    "        except:\n",
    "            logging.info(curlify.to_curl(r.request))\n",
    "            logging.info('Request failed')\n",
    "            break\n",
    "        time.sleep(timeout)\n",
    "        sec += timeout\n",
    "        logging.info(f'It tooks {sec} sec to complete task')\n",
    "    r = requests.delete(\n",
    "                api_url + task_id\n",
    "    )\n",
    "    logging.info(f'Deleting task: {task_id}')\n",
    "    logging.info(curlify.to_curl(r.request))\n",
    "        "
   ]
  },
  {
   "cell_type": "code",
   "execution_count": null,
   "metadata": {},
   "outputs": [],
   "source": []
  },
  {
   "cell_type": "code",
   "execution_count": null,
   "metadata": {},
   "outputs": [],
   "source": []
  },
  {
   "cell_type": "code",
   "execution_count": null,
   "metadata": {},
   "outputs": [],
   "source": []
  },
  {
   "cell_type": "code",
   "execution_count": null,
   "metadata": {},
   "outputs": [],
   "source": []
  }
 ],
 "metadata": {
  "kernelspec": {
   "display_name": "Python 3",
   "language": "python",
   "name": "python3"
  },
  "language_info": {
   "codemirror_mode": {
    "name": "ipython",
    "version": 3
   },
   "file_extension": ".py",
   "mimetype": "text/x-python",
   "name": "python",
   "nbconvert_exporter": "python",
   "pygments_lexer": "ipython3",
   "version": "3.8.3"
  }
 },
 "nbformat": 4,
 "nbformat_minor": 1
}
